{
 "cells": [
  {
   "cell_type": "code",
   "execution_count": null,
   "metadata": {},
   "outputs": [],
   "source": [
    "import subprocess\n",
    "import pandas as pd\n",
    "import numpy as np\n",
    "import csv\n"
   ]
  },
  {
   "cell_type": "code",
   "execution_count": null,
   "metadata": {},
   "outputs": [],
   "source": [
    "def matGen(n, m, m2):\n",
    "\n",
    "    LONG_LONG_MAX =  9223372036854775807\n",
    "\n",
    "    #change values here!\n",
    "    # n = 50\n",
    "    # m = 50\n",
    "    # m2 = 50\n",
    "\n",
    "    #f =  open(\"Matrix_out.txt\")\n",
    "    mat = np.random.randint(0,1000,size=(n,m))\n",
    "    print(mat)\n",
    "    np.savetxt(\"matrix1.txt\",mat,fmt='%i')\n",
    "\n",
    "    mat2 = np.random.randint(0,1000,size=(m,m2))\n",
    "    print(mat2)\n",
    "    np.savetxt(\"matrix2.txt\",mat2,fmt='%i')\n",
    "\n",
    "    matRes = np.matmul(mat,mat2)\n",
    "    print(matRes)\n",
    "    print(matRes.shape)\n",
    "    np.savetxt(\"matrixres.txt\",matRes,fmt='%i')"
   ]
  },
  {
   "cell_type": "code",
   "execution_count": null,
   "metadata": {},
   "outputs": [],
   "source": [
    "subprocess.call([\"gcc\", \"P1.c\", \"-o\",\"P1.out\", \"-pthread\"])\n",
    "subprocess.call([\"gcc\", \"P2.c\", \"-o\",\"P2.out\", \"-pthread\"])\n",
    "subprocess.call([\"gcc\", \"schedulercopy.c\", \"-o\",\"sched.out\"])\n",
    "\n",
    "\n",
    "# subprocess.call(\"gcc schedulercopy.c\")\n",
    "\n",
    "f1 = open('datasched.csv', 'w')\n",
    "\n",
    "writer1 = csv.writer(f1)\n",
    "\n",
    "header1 = ['dim1', 'dim2', 'dim3', 'TAT(ns)', 'wait(ns)', 'switching_ovhd(ns)']\n",
    "\n",
    "writer1.writerow(header1)\n",
    "\n",
    "f1.close()"
   ]
  },
  {
   "cell_type": "code",
   "execution_count": null,
   "metadata": {},
   "outputs": [],
   "source": [
    "i = j = k = 500\n",
    "matGen(i, j, k)\n",
    "execstring = \"./sched.out \" + str(i) + \" \" + str(j) + \" \" + str(k) + \" matrix1.txt matrix2.txt out.txt\"\n",
    "tmp = subprocess.call(execstring.split())"
   ]
  },
  {
   "cell_type": "code",
   "execution_count": null,
   "metadata": {},
   "outputs": [],
   "source": [
    "for i in range(1, 1000, 10):\n",
    "    for j in range(1, 1000, 10):\n",
    "        for k in range(1, 1000, 10):\n",
    "            matGen(i, j, k)\n",
    "            execstring = \"./sched.out \" + str(i) + \" \" + str(j) + \" \" + str(k) + \" matrix1.txt matrix2.txt out.txt 8 8\"\n",
    "            tmp = subprocess.call(execstring.split())\n"
   ]
  },
  {
   "cell_type": "code",
   "execution_count": null,
   "metadata": {},
   "outputs": [],
   "source": [
    "# for i in range(1, 50):\n",
    "#     for j in range(1,6):\n",
    "#         p1 = \"./P1.out \"+str(n)+\" \"+str(m)+\" \"+str(m2)+\" \"+\"matrix1.txt matrix2.txt out.txt \"+ str(i) +\" 1\"\n",
    "#         tmp=subprocess.call(p1.split()) \n",
    "#         print(\"printing result\")\n",
    "#         #print(tmp)\n",
    "#         p2 = \"./P2.out \"+str(n)+\" \"+str(m)+\" \"+str(m2)+\" \"+\"matrix1.txt matrix2.txt out.txt 1 \"+ str(i)\n",
    "#         tmp=subprocess.call(p2.split()) \n",
    "#         print(\"printing result\")\n",
    "#         #print(tmp)\n",
    "\n",
    "# # #dataP1.txt"
   ]
  },
  {
   "cell_type": "code",
   "execution_count": null,
   "metadata": {},
   "outputs": [],
   "source": [
    "df = pd.read_csv(\"datasched.csv\")\n",
    "\n",
    "# df = df.groupby('num_threads').mean('time(ns)')\n",
    "print(df.head)"
   ]
  }
 ],
 "metadata": {
  "kernelspec": {
   "display_name": "Python 3.8.10 64-bit",
   "language": "python",
   "name": "python3"
  },
  "language_info": {
   "codemirror_mode": {
    "name": "ipython",
    "version": 3
   },
   "file_extension": ".py",
   "mimetype": "text/x-python",
   "name": "python",
   "nbconvert_exporter": "python",
   "pygments_lexer": "ipython3",
   "version": "3.8.10"
  },
  "orig_nbformat": 4,
  "vscode": {
   "interpreter": {
    "hash": "916dbcbb3f70747c44a77c7bcd40155683ae19c65e1c03b4aa3499c5328201f1"
   }
  }
 },
 "nbformat": 4,
 "nbformat_minor": 2
}
